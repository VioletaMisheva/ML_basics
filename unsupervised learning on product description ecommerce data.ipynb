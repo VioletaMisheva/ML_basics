{
 "cells": [
  {
   "cell_type": "markdown",
   "metadata": {},
   "source": [
    "## Applying various techniques to detect clusters in ecommerce transactions"
   ]
  },
  {
   "cell_type": "markdown",
   "metadata": {},
   "source": [
    "This notebook contains code applying different type of unsupervised learning techbuques and LDA to a field containing product description. \n",
    "\n",
    "The data are obtained from the following challenge in Kaggle, containing purchase transactions from customers: https://www.kaggle.com/carrie1/ecommerce-data\n",
    "\n",
    "The code provides answers to the below questions, focusing on Question 1: \n",
    "\n",
    "1 - Find the 'behaviour' groups / clusters (Hint: you can use the purchase behaviour for that)\n",
    "2 – Explain, if possible, what clusters you have found (for example, customers purchasing furniture, purchasing jewellery, etc.)\n",
    "3- How you can use the clusters from the given dataset to make actionable business insights and what will these insights be?\n",
    "\n"
   ]
  },
  {
   "cell_type": "markdown",
   "metadata": {},
   "source": [
    "#### Pre-processing  "
   ]
  },
  {
   "cell_type": "code",
   "execution_count": 19,
   "metadata": {},
   "outputs": [],
   "source": [
    "import pandas as pd\n",
    "import numpy as np\n",
    "import matplotlib.pyplot as plt\n",
    "%matplotlib inline"
   ]
  },
  {
   "cell_type": "code",
   "execution_count": 2,
   "metadata": {},
   "outputs": [],
   "source": [
    "data = pd.read_csv('data.csv', encoding = 'ISO-8859-1')"
   ]
  },
  {
   "cell_type": "code",
   "execution_count": 3,
   "metadata": {},
   "outputs": [
    {
     "name": "stdout",
     "output_type": "stream",
     "text": [
      "<class 'pandas.core.frame.DataFrame'>\n",
      "RangeIndex: 541909 entries, 0 to 541908\n",
      "Data columns (total 8 columns):\n",
      "InvoiceNo      541909 non-null object\n",
      "StockCode      541909 non-null object\n",
      "Description    540455 non-null object\n",
      "Quantity       541909 non-null int64\n",
      "InvoiceDate    541909 non-null object\n",
      "UnitPrice      541909 non-null float64\n",
      "CustomerID     406829 non-null float64\n",
      "Country        541909 non-null object\n",
      "dtypes: float64(2), int64(1), object(5)\n",
      "memory usage: 33.1+ MB\n"
     ]
    }
   ],
   "source": [
    "# Type of columns\n",
    "data.info()"
   ]
  },
  {
   "cell_type": "code",
   "execution_count": 4,
   "metadata": {},
   "outputs": [
    {
     "data": {
      "text/html": [
       "<div>\n",
       "<style scoped>\n",
       "    .dataframe tbody tr th:only-of-type {\n",
       "        vertical-align: middle;\n",
       "    }\n",
       "\n",
       "    .dataframe tbody tr th {\n",
       "        vertical-align: top;\n",
       "    }\n",
       "\n",
       "    .dataframe thead th {\n",
       "        text-align: right;\n",
       "    }\n",
       "</style>\n",
       "<table border=\"1\" class=\"dataframe\">\n",
       "  <thead>\n",
       "    <tr style=\"text-align: right;\">\n",
       "      <th></th>\n",
       "      <th>InvoiceNo</th>\n",
       "      <th>StockCode</th>\n",
       "      <th>Description</th>\n",
       "      <th>Quantity</th>\n",
       "      <th>InvoiceDate</th>\n",
       "      <th>UnitPrice</th>\n",
       "      <th>CustomerID</th>\n",
       "      <th>Country</th>\n",
       "    </tr>\n",
       "  </thead>\n",
       "  <tbody>\n",
       "    <tr>\n",
       "      <th>0</th>\n",
       "      <td>536365</td>\n",
       "      <td>85123A</td>\n",
       "      <td>WHITE HANGING HEART T-LIGHT HOLDER</td>\n",
       "      <td>6</td>\n",
       "      <td>12/1/2010 8:26</td>\n",
       "      <td>2.55</td>\n",
       "      <td>17850.0</td>\n",
       "      <td>United Kingdom</td>\n",
       "    </tr>\n",
       "    <tr>\n",
       "      <th>1</th>\n",
       "      <td>536365</td>\n",
       "      <td>71053</td>\n",
       "      <td>WHITE METAL LANTERN</td>\n",
       "      <td>6</td>\n",
       "      <td>12/1/2010 8:26</td>\n",
       "      <td>3.39</td>\n",
       "      <td>17850.0</td>\n",
       "      <td>United Kingdom</td>\n",
       "    </tr>\n",
       "    <tr>\n",
       "      <th>2</th>\n",
       "      <td>536365</td>\n",
       "      <td>84406B</td>\n",
       "      <td>CREAM CUPID HEARTS COAT HANGER</td>\n",
       "      <td>8</td>\n",
       "      <td>12/1/2010 8:26</td>\n",
       "      <td>2.75</td>\n",
       "      <td>17850.0</td>\n",
       "      <td>United Kingdom</td>\n",
       "    </tr>\n",
       "    <tr>\n",
       "      <th>3</th>\n",
       "      <td>536365</td>\n",
       "      <td>84029G</td>\n",
       "      <td>KNITTED UNION FLAG HOT WATER BOTTLE</td>\n",
       "      <td>6</td>\n",
       "      <td>12/1/2010 8:26</td>\n",
       "      <td>3.39</td>\n",
       "      <td>17850.0</td>\n",
       "      <td>United Kingdom</td>\n",
       "    </tr>\n",
       "    <tr>\n",
       "      <th>4</th>\n",
       "      <td>536365</td>\n",
       "      <td>84029E</td>\n",
       "      <td>RED WOOLLY HOTTIE WHITE HEART.</td>\n",
       "      <td>6</td>\n",
       "      <td>12/1/2010 8:26</td>\n",
       "      <td>3.39</td>\n",
       "      <td>17850.0</td>\n",
       "      <td>United Kingdom</td>\n",
       "    </tr>\n",
       "  </tbody>\n",
       "</table>\n",
       "</div>"
      ],
      "text/plain": [
       "  InvoiceNo StockCode                          Description  Quantity  \\\n",
       "0    536365    85123A   WHITE HANGING HEART T-LIGHT HOLDER         6   \n",
       "1    536365     71053                  WHITE METAL LANTERN         6   \n",
       "2    536365    84406B       CREAM CUPID HEARTS COAT HANGER         8   \n",
       "3    536365    84029G  KNITTED UNION FLAG HOT WATER BOTTLE         6   \n",
       "4    536365    84029E       RED WOOLLY HOTTIE WHITE HEART.         6   \n",
       "\n",
       "      InvoiceDate  UnitPrice  CustomerID         Country  \n",
       "0  12/1/2010 8:26       2.55     17850.0  United Kingdom  \n",
       "1  12/1/2010 8:26       3.39     17850.0  United Kingdom  \n",
       "2  12/1/2010 8:26       2.75     17850.0  United Kingdom  \n",
       "3  12/1/2010 8:26       3.39     17850.0  United Kingdom  \n",
       "4  12/1/2010 8:26       3.39     17850.0  United Kingdom  "
      ]
     },
     "execution_count": 4,
     "metadata": {},
     "output_type": "execute_result"
    }
   ],
   "source": [
    "data.head()"
   ]
  },
  {
   "cell_type": "code",
   "execution_count": 5,
   "metadata": {},
   "outputs": [
    {
     "data": {
      "text/plain": [
       "(541909, 8)"
      ]
     },
     "execution_count": 5,
     "metadata": {},
     "output_type": "execute_result"
    }
   ],
   "source": [
    "data.shape"
   ]
  },
  {
   "cell_type": "code",
   "execution_count": 6,
   "metadata": {},
   "outputs": [],
   "source": [
    "data['InvoiceDate'] = pd.to_datetime(data['InvoiceDate'])\n",
    "#data['InvoiceNo'] = pd.to_numeric(data['InvoiceNo']) apparently not numeric"
   ]
  },
  {
   "cell_type": "markdown",
   "metadata": {},
   "source": [
    "It seems that the InvoiceNo and StockCode used jointly are the unique identifiers of each transaction."
   ]
  },
  {
   "cell_type": "code",
   "execution_count": 7,
   "metadata": {},
   "outputs": [
    {
     "data": {
      "text/plain": [
       "(536641, 8)"
      ]
     },
     "execution_count": 7,
     "metadata": {},
     "output_type": "execute_result"
    }
   ],
   "source": [
    "# Check for duplicates, sorting by InvoiceNo and StockCode\n",
    "df = data.sort_values(['InvoiceNo', 'StockCode']).drop_duplicates()\n",
    "df.shape"
   ]
  },
  {
   "cell_type": "code",
   "execution_count": 8,
   "metadata": {},
   "outputs": [
    {
     "data": {
      "text/plain": [
       "InvoiceNo           0\n",
       "StockCode           0\n",
       "Description      1454\n",
       "Quantity            0\n",
       "InvoiceDate         0\n",
       "UnitPrice           0\n",
       "CustomerID     135037\n",
       "Country             0\n",
       "dtype: int64"
      ]
     },
     "execution_count": 8,
     "metadata": {},
     "output_type": "execute_result"
    }
   ],
   "source": [
    "# Check for NAs\n",
    "df.isna().sum()"
   ]
  },
  {
   "cell_type": "markdown",
   "metadata": {},
   "source": [
    "I will drop transactions with no Description since I will use description for unsupervised learning."
   ]
  },
  {
   "cell_type": "code",
   "execution_count": 9,
   "metadata": {},
   "outputs": [
    {
     "data": {
      "text/plain": [
       "(535187, 8)"
      ]
     },
     "execution_count": 9,
     "metadata": {},
     "output_type": "execute_result"
    }
   ],
   "source": [
    "df = df.dropna(subset=['Description'])\n",
    "df.shape"
   ]
  },
  {
   "cell_type": "code",
   "execution_count": 10,
   "metadata": {},
   "outputs": [
    {
     "data": {
      "text/plain": [
       "InvoiceNo           0\n",
       "StockCode           0\n",
       "Description         0\n",
       "Quantity            0\n",
       "InvoiceDate         0\n",
       "UnitPrice           0\n",
       "CustomerID     133583\n",
       "Country             0\n",
       "dtype: int64"
      ]
     },
     "execution_count": 10,
     "metadata": {},
     "output_type": "execute_result"
    }
   ],
   "source": [
    "df.isna().sum()"
   ]
  },
  {
   "cell_type": "code",
   "execution_count": 11,
   "metadata": {},
   "outputs": [],
   "source": [
    "# CustomerID can be dropped as a column as I will not do much with it\n",
    "df = df.drop('CustomerID', axis=1)"
   ]
  },
  {
   "cell_type": "markdown",
   "metadata": {},
   "source": [
    "### Preprocess the description field "
   ]
  },
  {
   "cell_type": "markdown",
   "metadata": {},
   "source": [
    "We have a description field, which is a text field. Since it consists of realtively longer text, we might want to use other methods to pre-process it rather than just splitting it to categories or creating one-hot encoding.\n",
    "\n",
    "One approach is to split each transaction description in individuals words (also called tokens). I will use sklearn's CountVectorizer to build a bag-of-words of the descriptions. Then I will apply k-means clustering, find the optimal number of clusters and extract the most frequent words per cluster. \n",
    "\n",
    "The second approach uses nltk to split each description in a list of tokens. We can also filter out digits and leave only letters, for example. We can retain only nouns because nouns are more likely to represent a type of a product. This selection only on nouns can be applied to the first approach as well. "
   ]
  },
  {
   "cell_type": "markdown",
   "metadata": {},
   "source": [
    "#### Approach 1: Create tokens using bag-of-words "
   ]
  },
  {
   "cell_type": "markdown",
   "metadata": {},
   "source": [
    "The first approach we implement is using one of sklearn's built in functions and it transforms the text using a bag-of-words approach. A bag-of-words splits each description in individual tokens and creates a count for how often a token occurs in a given description (also called document). We can also choose to retain only words and ignore digits and special characters, remove stop-words (words such as 'and, the, a, an, etc..'). "
   ]
  },
  {
   "cell_type": "code",
   "execution_count": 12,
   "metadata": {},
   "outputs": [],
   "source": [
    "from sklearn.feature_extraction.text import CountVectorizer, ENGLISH_STOP_WORDS\n",
    "\n",
    "vect = CountVectorizer(stop_words=ENGLISH_STOP_WORDS,max_features=100, token_pattern=r'(?u)\\b[^\\W\\d][^\\W\\d]+\\b').fit(df.Description)\n",
    "X = vect.transform(df.Description)\n",
    "\n",
    "df_desc = pd.DataFrame(X.toarray(), columns = vect.get_feature_names())"
   ]
  },
  {
   "cell_type": "code",
   "execution_count": 13,
   "metadata": {},
   "outputs": [
    {
     "data": {
      "text/html": [
       "<div>\n",
       "<style scoped>\n",
       "    .dataframe tbody tr th:only-of-type {\n",
       "        vertical-align: middle;\n",
       "    }\n",
       "\n",
       "    .dataframe tbody tr th {\n",
       "        vertical-align: top;\n",
       "    }\n",
       "\n",
       "    .dataframe thead th {\n",
       "        text-align: right;\n",
       "    }\n",
       "</style>\n",
       "<table border=\"1\" class=\"dataframe\">\n",
       "  <thead>\n",
       "    <tr style=\"text-align: right;\">\n",
       "      <th></th>\n",
       "      <th>antique</th>\n",
       "      <th>assorted</th>\n",
       "      <th>bag</th>\n",
       "      <th>bird</th>\n",
       "      <th>birthday</th>\n",
       "      <th>black</th>\n",
       "      <th>blue</th>\n",
       "      <th>bottle</th>\n",
       "      <th>bowl</th>\n",
       "      <th>box</th>\n",
       "      <th>...</th>\n",
       "      <th>vintage</th>\n",
       "      <th>wall</th>\n",
       "      <th>water</th>\n",
       "      <th>white</th>\n",
       "      <th>wicker</th>\n",
       "      <th>wood</th>\n",
       "      <th>wooden</th>\n",
       "      <th>woodland</th>\n",
       "      <th>wrap</th>\n",
       "      <th>zinc</th>\n",
       "    </tr>\n",
       "  </thead>\n",
       "  <tbody>\n",
       "    <tr>\n",
       "      <th>0</th>\n",
       "      <td>0</td>\n",
       "      <td>0</td>\n",
       "      <td>0</td>\n",
       "      <td>0</td>\n",
       "      <td>0</td>\n",
       "      <td>0</td>\n",
       "      <td>0</td>\n",
       "      <td>0</td>\n",
       "      <td>0</td>\n",
       "      <td>0</td>\n",
       "      <td>...</td>\n",
       "      <td>0</td>\n",
       "      <td>0</td>\n",
       "      <td>0</td>\n",
       "      <td>0</td>\n",
       "      <td>0</td>\n",
       "      <td>0</td>\n",
       "      <td>0</td>\n",
       "      <td>0</td>\n",
       "      <td>0</td>\n",
       "      <td>0</td>\n",
       "    </tr>\n",
       "    <tr>\n",
       "      <th>1</th>\n",
       "      <td>0</td>\n",
       "      <td>0</td>\n",
       "      <td>0</td>\n",
       "      <td>0</td>\n",
       "      <td>0</td>\n",
       "      <td>0</td>\n",
       "      <td>0</td>\n",
       "      <td>0</td>\n",
       "      <td>0</td>\n",
       "      <td>0</td>\n",
       "      <td>...</td>\n",
       "      <td>0</td>\n",
       "      <td>0</td>\n",
       "      <td>0</td>\n",
       "      <td>0</td>\n",
       "      <td>0</td>\n",
       "      <td>0</td>\n",
       "      <td>0</td>\n",
       "      <td>0</td>\n",
       "      <td>0</td>\n",
       "      <td>0</td>\n",
       "    </tr>\n",
       "    <tr>\n",
       "      <th>2</th>\n",
       "      <td>0</td>\n",
       "      <td>0</td>\n",
       "      <td>0</td>\n",
       "      <td>0</td>\n",
       "      <td>0</td>\n",
       "      <td>0</td>\n",
       "      <td>0</td>\n",
       "      <td>0</td>\n",
       "      <td>0</td>\n",
       "      <td>0</td>\n",
       "      <td>...</td>\n",
       "      <td>0</td>\n",
       "      <td>0</td>\n",
       "      <td>0</td>\n",
       "      <td>1</td>\n",
       "      <td>0</td>\n",
       "      <td>0</td>\n",
       "      <td>0</td>\n",
       "      <td>0</td>\n",
       "      <td>0</td>\n",
       "      <td>0</td>\n",
       "    </tr>\n",
       "    <tr>\n",
       "      <th>3</th>\n",
       "      <td>0</td>\n",
       "      <td>0</td>\n",
       "      <td>0</td>\n",
       "      <td>0</td>\n",
       "      <td>0</td>\n",
       "      <td>0</td>\n",
       "      <td>0</td>\n",
       "      <td>0</td>\n",
       "      <td>0</td>\n",
       "      <td>0</td>\n",
       "      <td>...</td>\n",
       "      <td>0</td>\n",
       "      <td>0</td>\n",
       "      <td>0</td>\n",
       "      <td>1</td>\n",
       "      <td>0</td>\n",
       "      <td>0</td>\n",
       "      <td>0</td>\n",
       "      <td>0</td>\n",
       "      <td>0</td>\n",
       "      <td>0</td>\n",
       "    </tr>\n",
       "    <tr>\n",
       "      <th>4</th>\n",
       "      <td>0</td>\n",
       "      <td>0</td>\n",
       "      <td>0</td>\n",
       "      <td>0</td>\n",
       "      <td>0</td>\n",
       "      <td>0</td>\n",
       "      <td>0</td>\n",
       "      <td>1</td>\n",
       "      <td>0</td>\n",
       "      <td>0</td>\n",
       "      <td>...</td>\n",
       "      <td>0</td>\n",
       "      <td>0</td>\n",
       "      <td>1</td>\n",
       "      <td>0</td>\n",
       "      <td>0</td>\n",
       "      <td>0</td>\n",
       "      <td>0</td>\n",
       "      <td>0</td>\n",
       "      <td>0</td>\n",
       "      <td>0</td>\n",
       "    </tr>\n",
       "  </tbody>\n",
       "</table>\n",
       "<p>5 rows × 100 columns</p>\n",
       "</div>"
      ],
      "text/plain": [
       "   antique  assorted  bag  bird  birthday  black  blue  bottle  bowl  box  \\\n",
       "0        0         0    0     0         0      0     0       0     0    0   \n",
       "1        0         0    0     0         0      0     0       0     0    0   \n",
       "2        0         0    0     0         0      0     0       0     0    0   \n",
       "3        0         0    0     0         0      0     0       0     0    0   \n",
       "4        0         0    0     0         0      0     0       1     0    0   \n",
       "\n",
       "   ...   vintage  wall  water  white  wicker  wood  wooden  woodland  wrap  \\\n",
       "0  ...         0     0      0      0       0     0       0         0     0   \n",
       "1  ...         0     0      0      0       0     0       0         0     0   \n",
       "2  ...         0     0      0      1       0     0       0         0     0   \n",
       "3  ...         0     0      0      1       0     0       0         0     0   \n",
       "4  ...         0     0      1      0       0     0       0         0     0   \n",
       "\n",
       "   zinc  \n",
       "0     0  \n",
       "1     0  \n",
       "2     0  \n",
       "3     0  \n",
       "4     0  \n",
       "\n",
       "[5 rows x 100 columns]"
      ]
     },
     "execution_count": 13,
     "metadata": {},
     "output_type": "execute_result"
    }
   ],
   "source": [
    "df_desc.head()"
   ]
  },
  {
   "cell_type": "code",
   "execution_count": 14,
   "metadata": {},
   "outputs": [
    {
     "data": {
      "text/html": [
       "<div>\n",
       "<style scoped>\n",
       "    .dataframe tbody tr th:only-of-type {\n",
       "        vertical-align: middle;\n",
       "    }\n",
       "\n",
       "    .dataframe tbody tr th {\n",
       "        vertical-align: top;\n",
       "    }\n",
       "\n",
       "    .dataframe thead th {\n",
       "        text-align: right;\n",
       "    }\n",
       "</style>\n",
       "<table border=\"1\" class=\"dataframe\">\n",
       "  <thead>\n",
       "    <tr style=\"text-align: right;\">\n",
       "      <th></th>\n",
       "      <th>InvoiceNo</th>\n",
       "      <th>StockCode</th>\n",
       "      <th>Quantity</th>\n",
       "      <th>InvoiceDate</th>\n",
       "      <th>UnitPrice</th>\n",
       "      <th>Country</th>\n",
       "      <th>antique</th>\n",
       "      <th>assorted</th>\n",
       "      <th>bag</th>\n",
       "      <th>bird</th>\n",
       "      <th>...</th>\n",
       "      <th>vintage</th>\n",
       "      <th>wall</th>\n",
       "      <th>water</th>\n",
       "      <th>white</th>\n",
       "      <th>wicker</th>\n",
       "      <th>wood</th>\n",
       "      <th>wooden</th>\n",
       "      <th>woodland</th>\n",
       "      <th>wrap</th>\n",
       "      <th>zinc</th>\n",
       "    </tr>\n",
       "  </thead>\n",
       "  <tbody>\n",
       "    <tr>\n",
       "      <th>0</th>\n",
       "      <td>536365</td>\n",
       "      <td>21730</td>\n",
       "      <td>6</td>\n",
       "      <td>2010-12-01 08:26:00</td>\n",
       "      <td>4.25</td>\n",
       "      <td>United Kingdom</td>\n",
       "      <td>0</td>\n",
       "      <td>0</td>\n",
       "      <td>0</td>\n",
       "      <td>0</td>\n",
       "      <td>...</td>\n",
       "      <td>0</td>\n",
       "      <td>0</td>\n",
       "      <td>0</td>\n",
       "      <td>0</td>\n",
       "      <td>0</td>\n",
       "      <td>0</td>\n",
       "      <td>0</td>\n",
       "      <td>0</td>\n",
       "      <td>0</td>\n",
       "      <td>0</td>\n",
       "    </tr>\n",
       "    <tr>\n",
       "      <th>1</th>\n",
       "      <td>536365</td>\n",
       "      <td>22752</td>\n",
       "      <td>2</td>\n",
       "      <td>2010-12-01 08:26:00</td>\n",
       "      <td>7.65</td>\n",
       "      <td>United Kingdom</td>\n",
       "      <td>0</td>\n",
       "      <td>0</td>\n",
       "      <td>0</td>\n",
       "      <td>0</td>\n",
       "      <td>...</td>\n",
       "      <td>0</td>\n",
       "      <td>0</td>\n",
       "      <td>0</td>\n",
       "      <td>0</td>\n",
       "      <td>0</td>\n",
       "      <td>0</td>\n",
       "      <td>0</td>\n",
       "      <td>0</td>\n",
       "      <td>0</td>\n",
       "      <td>0</td>\n",
       "    </tr>\n",
       "    <tr>\n",
       "      <th>2</th>\n",
       "      <td>536365</td>\n",
       "      <td>71053</td>\n",
       "      <td>6</td>\n",
       "      <td>2010-12-01 08:26:00</td>\n",
       "      <td>3.39</td>\n",
       "      <td>United Kingdom</td>\n",
       "      <td>0</td>\n",
       "      <td>0</td>\n",
       "      <td>0</td>\n",
       "      <td>0</td>\n",
       "      <td>...</td>\n",
       "      <td>0</td>\n",
       "      <td>0</td>\n",
       "      <td>0</td>\n",
       "      <td>1</td>\n",
       "      <td>0</td>\n",
       "      <td>0</td>\n",
       "      <td>0</td>\n",
       "      <td>0</td>\n",
       "      <td>0</td>\n",
       "      <td>0</td>\n",
       "    </tr>\n",
       "    <tr>\n",
       "      <th>3</th>\n",
       "      <td>536365</td>\n",
       "      <td>84029E</td>\n",
       "      <td>6</td>\n",
       "      <td>2010-12-01 08:26:00</td>\n",
       "      <td>3.39</td>\n",
       "      <td>United Kingdom</td>\n",
       "      <td>0</td>\n",
       "      <td>0</td>\n",
       "      <td>0</td>\n",
       "      <td>0</td>\n",
       "      <td>...</td>\n",
       "      <td>0</td>\n",
       "      <td>0</td>\n",
       "      <td>0</td>\n",
       "      <td>1</td>\n",
       "      <td>0</td>\n",
       "      <td>0</td>\n",
       "      <td>0</td>\n",
       "      <td>0</td>\n",
       "      <td>0</td>\n",
       "      <td>0</td>\n",
       "    </tr>\n",
       "    <tr>\n",
       "      <th>4</th>\n",
       "      <td>536365</td>\n",
       "      <td>84029G</td>\n",
       "      <td>6</td>\n",
       "      <td>2010-12-01 08:26:00</td>\n",
       "      <td>3.39</td>\n",
       "      <td>United Kingdom</td>\n",
       "      <td>0</td>\n",
       "      <td>0</td>\n",
       "      <td>0</td>\n",
       "      <td>0</td>\n",
       "      <td>...</td>\n",
       "      <td>0</td>\n",
       "      <td>0</td>\n",
       "      <td>1</td>\n",
       "      <td>0</td>\n",
       "      <td>0</td>\n",
       "      <td>0</td>\n",
       "      <td>0</td>\n",
       "      <td>0</td>\n",
       "      <td>0</td>\n",
       "      <td>0</td>\n",
       "    </tr>\n",
       "  </tbody>\n",
       "</table>\n",
       "<p>5 rows × 106 columns</p>\n",
       "</div>"
      ],
      "text/plain": [
       "  InvoiceNo StockCode Quantity          InvoiceDate UnitPrice         Country  \\\n",
       "0    536365     21730        6  2010-12-01 08:26:00      4.25  United Kingdom   \n",
       "1    536365     22752        2  2010-12-01 08:26:00      7.65  United Kingdom   \n",
       "2    536365     71053        6  2010-12-01 08:26:00      3.39  United Kingdom   \n",
       "3    536365    84029E        6  2010-12-01 08:26:00      3.39  United Kingdom   \n",
       "4    536365    84029G        6  2010-12-01 08:26:00      3.39  United Kingdom   \n",
       "\n",
       "  antique assorted bag bird ...  vintage wall water white wicker wood wooden  \\\n",
       "0       0        0   0    0 ...        0    0     0     0      0    0      0   \n",
       "1       0        0   0    0 ...        0    0     0     0      0    0      0   \n",
       "2       0        0   0    0 ...        0    0     0     1      0    0      0   \n",
       "3       0        0   0    0 ...        0    0     0     1      0    0      0   \n",
       "4       0        0   0    0 ...        0    0     1     0      0    0      0   \n",
       "\n",
       "  woodland wrap zinc  \n",
       "0        0    0    0  \n",
       "1        0    0    0  \n",
       "2        0    0    0  \n",
       "3        0    0    0  \n",
       "4        0    0    0  \n",
       "\n",
       "[5 rows x 106 columns]"
      ]
     },
     "execution_count": 14,
     "metadata": {},
     "output_type": "execute_result"
    }
   ],
   "source": [
    "# merge the dataset of BOWs with the rest of the ecommerce data\n",
    "\n",
    "df_no_desc = df.drop('Description', axis=1)\n",
    "con = np.concatenate([df_no_desc, df_desc], axis = 1)\n",
    "data_column_names = list(df_no_desc.columns) + list(df_desc.columns)\n",
    "df_merged = pd.DataFrame(con, columns=data_column_names)\n",
    "df_merged.head()"
   ]
  },
  {
   "cell_type": "markdown",
   "metadata": {},
   "source": [
    "The dataset _df_merged_ then consists of the original columns of our ecommerce data and the description has been transformed to individual columns with a BOW approach. The BOW has split the description in individual tokens and the number in each row represents the count for that particular token in each description. The result of the BOW is a sparse matrix (storing only non-zero elements) because many of the entries will be 0's. "
   ]
  },
  {
   "cell_type": "code",
   "execution_count": 15,
   "metadata": {},
   "outputs": [],
   "source": [
    "# How many clusters are appropriate?\n",
    "from sklearn.cluster import KMeans\n",
    "\n",
    "inertia = []\n",
    "for k in range(1, 10):\n",
    "    kmeans = KMeans(n_clusters=k, random_state=1).fit(df_merged.iloc[:, 7:])\n",
    "    inertia.append(np.sqrt(kmeans.inertia_))"
   ]
  },
  {
   "cell_type": "code",
   "execution_count": 16,
   "metadata": {},
   "outputs": [
    {
     "data": {
      "text/plain": [
       "Text(0,0.5,'Inertia value')"
      ]
     },
     "execution_count": 16,
     "metadata": {},
     "output_type": "execute_result"
    },
    {
     "data": {
      "image/png": "[encoded data removed]",
      "text/plain": [
       "<Figure size 432x288 with 1 Axes>"
      ]
     },
     "metadata": {
      "needs_background": "light"
     },
     "output_type": "display_data"
    }
   ],
   "source": [
    "import matplotlib.pyplot as plt\n",
    "%matplotlib inline\n",
    "\n",
    "plt.plot(range(1, 10), inertia, marker='s')\n",
    "plt.xlabel('k')\n",
    "plt.ylabel('Inertia value')"
   ]
  },
  {
   "cell_type": "markdown",
   "metadata": {},
   "source": [
    "Looking at this plot, perhaps 5 clusters will be sufficient. "
   ]
  },
  {
   "cell_type": "code",
   "execution_count": 17,
   "metadata": {},
   "outputs": [
    {
     "data": {
      "text/html": [
       "<div>\n",
       "<style scoped>\n",
       "    .dataframe tbody tr th:only-of-type {\n",
       "        vertical-align: middle;\n",
       "    }\n",
       "\n",
       "    .dataframe tbody tr th {\n",
       "        vertical-align: top;\n",
       "    }\n",
       "\n",
       "    .dataframe thead th {\n",
       "        text-align: right;\n",
       "    }\n",
       "</style>\n",
       "<table border=\"1\" class=\"dataframe\">\n",
       "  <thead>\n",
       "    <tr style=\"text-align: right;\">\n",
       "      <th></th>\n",
       "      <th>total_sum</th>\n",
       "      <th>proportion</th>\n",
       "    </tr>\n",
       "  </thead>\n",
       "  <tbody>\n",
       "    <tr>\n",
       "      <th>set</th>\n",
       "      <td>62926</td>\n",
       "      <td>0.117578</td>\n",
       "    </tr>\n",
       "    <tr>\n",
       "      <th>bag</th>\n",
       "      <td>51547</td>\n",
       "      <td>0.0963159</td>\n",
       "    </tr>\n",
       "    <tr>\n",
       "      <th>red</th>\n",
       "      <td>43080</td>\n",
       "      <td>0.0804952</td>\n",
       "    </tr>\n",
       "    <tr>\n",
       "      <th>heart</th>\n",
       "      <td>38856</td>\n",
       "      <td>0.0726027</td>\n",
       "    </tr>\n",
       "    <tr>\n",
       "      <th>retrospot</th>\n",
       "      <td>34849</td>\n",
       "      <td>0.0651156</td>\n",
       "    </tr>\n",
       "    <tr>\n",
       "      <th>vintage</th>\n",
       "      <td>33465</td>\n",
       "      <td>0.0625295</td>\n",
       "    </tr>\n",
       "    <tr>\n",
       "      <th>design</th>\n",
       "      <td>29720</td>\n",
       "      <td>0.055532</td>\n",
       "    </tr>\n",
       "    <tr>\n",
       "      <th>pink</th>\n",
       "      <td>29588</td>\n",
       "      <td>0.0552853</td>\n",
       "    </tr>\n",
       "    <tr>\n",
       "      <th>christmas</th>\n",
       "      <td>24878</td>\n",
       "      <td>0.0464847</td>\n",
       "    </tr>\n",
       "    <tr>\n",
       "      <th>box</th>\n",
       "      <td>24227</td>\n",
       "      <td>0.0452683</td>\n",
       "    </tr>\n",
       "    <tr>\n",
       "      <th>cake</th>\n",
       "      <td>21203</td>\n",
       "      <td>0.0396179</td>\n",
       "    </tr>\n",
       "    <tr>\n",
       "      <th>jumbo</th>\n",
       "      <td>20988</td>\n",
       "      <td>0.0392162</td>\n",
       "    </tr>\n",
       "    <tr>\n",
       "      <th>white</th>\n",
       "      <td>20974</td>\n",
       "      <td>0.03919</td>\n",
       "    </tr>\n",
       "    <tr>\n",
       "      <th>metal</th>\n",
       "      <td>20972</td>\n",
       "      <td>0.0391863</td>\n",
       "    </tr>\n",
       "    <tr>\n",
       "      <th>blue</th>\n",
       "      <td>19804</td>\n",
       "      <td>0.0370039</td>\n",
       "    </tr>\n",
       "    <tr>\n",
       "      <th>lunch</th>\n",
       "      <td>18292</td>\n",
       "      <td>0.0341787</td>\n",
       "    </tr>\n",
       "    <tr>\n",
       "      <th>light</th>\n",
       "      <td>18091</td>\n",
       "      <td>0.0338031</td>\n",
       "    </tr>\n",
       "    <tr>\n",
       "      <th>sign</th>\n",
       "      <td>17119</td>\n",
       "      <td>0.031987</td>\n",
       "    </tr>\n",
       "    <tr>\n",
       "      <th>hanging</th>\n",
       "      <td>16842</td>\n",
       "      <td>0.0314694</td>\n",
       "    </tr>\n",
       "    <tr>\n",
       "      <th>holder</th>\n",
       "      <td>16140</td>\n",
       "      <td>0.0301577</td>\n",
       "    </tr>\n",
       "    <tr>\n",
       "      <th>pack</th>\n",
       "      <td>15571</td>\n",
       "      <td>0.0290945</td>\n",
       "    </tr>\n",
       "    <tr>\n",
       "      <th>paper</th>\n",
       "      <td>14374</td>\n",
       "      <td>0.0268579</td>\n",
       "    </tr>\n",
       "    <tr>\n",
       "      <th>small</th>\n",
       "      <td>14180</td>\n",
       "      <td>0.0264954</td>\n",
       "    </tr>\n",
       "    <tr>\n",
       "      <th>card</th>\n",
       "      <td>14158</td>\n",
       "      <td>0.0264543</td>\n",
       "    </tr>\n",
       "    <tr>\n",
       "      <th>decoration</th>\n",
       "      <td>12824</td>\n",
       "      <td>0.0239617</td>\n",
       "    </tr>\n",
       "    <tr>\n",
       "      <th>wooden</th>\n",
       "      <td>12592</td>\n",
       "      <td>0.0235282</td>\n",
       "    </tr>\n",
       "    <tr>\n",
       "      <th>glass</th>\n",
       "      <td>12505</td>\n",
       "      <td>0.0233657</td>\n",
       "    </tr>\n",
       "    <tr>\n",
       "      <th>polkadot</th>\n",
       "      <td>12385</td>\n",
       "      <td>0.0231414</td>\n",
       "    </tr>\n",
       "    <tr>\n",
       "      <th>tea</th>\n",
       "      <td>12317</td>\n",
       "      <td>0.0230144</td>\n",
       "    </tr>\n",
       "    <tr>\n",
       "      <th>cases</th>\n",
       "      <td>11818</td>\n",
       "      <td>0.022082</td>\n",
       "    </tr>\n",
       "    <tr>\n",
       "      <th>...</th>\n",
       "      <td>...</td>\n",
       "      <td>...</td>\n",
       "    </tr>\n",
       "    <tr>\n",
       "      <th>childrens</th>\n",
       "      <td>6147</td>\n",
       "      <td>0.0114857</td>\n",
       "    </tr>\n",
       "    <tr>\n",
       "      <th>colour</th>\n",
       "      <td>6145</td>\n",
       "      <td>0.011482</td>\n",
       "    </tr>\n",
       "    <tr>\n",
       "      <th>star</th>\n",
       "      <td>6103</td>\n",
       "      <td>0.0114035</td>\n",
       "    </tr>\n",
       "    <tr>\n",
       "      <th>wall</th>\n",
       "      <td>6098</td>\n",
       "      <td>0.0113941</td>\n",
       "    </tr>\n",
       "    <tr>\n",
       "      <th>birthday</th>\n",
       "      <td>6087</td>\n",
       "      <td>0.0113736</td>\n",
       "    </tr>\n",
       "    <tr>\n",
       "      <th>strawberry</th>\n",
       "      <td>6064</td>\n",
       "      <td>0.0113306</td>\n",
       "    </tr>\n",
       "    <tr>\n",
       "      <th>wood</th>\n",
       "      <td>5970</td>\n",
       "      <td>0.011155</td>\n",
       "    </tr>\n",
       "    <tr>\n",
       "      <th>bird</th>\n",
       "      <td>5818</td>\n",
       "      <td>0.010871</td>\n",
       "    </tr>\n",
       "    <tr>\n",
       "      <th>zinc</th>\n",
       "      <td>5611</td>\n",
       "      <td>0.0104842</td>\n",
       "    </tr>\n",
       "    <tr>\n",
       "      <th>skull</th>\n",
       "      <td>5596</td>\n",
       "      <td>0.0104562</td>\n",
       "    </tr>\n",
       "    <tr>\n",
       "      <th>union</th>\n",
       "      <td>5405</td>\n",
       "      <td>0.0100993</td>\n",
       "    </tr>\n",
       "    <tr>\n",
       "      <th>gift</th>\n",
       "      <td>5245</td>\n",
       "      <td>0.00980031</td>\n",
       "    </tr>\n",
       "    <tr>\n",
       "      <th>lights</th>\n",
       "      <td>5207</td>\n",
       "      <td>0.00972931</td>\n",
       "    </tr>\n",
       "    <tr>\n",
       "      <th>cutlery</th>\n",
       "      <td>5152</td>\n",
       "      <td>0.00962654</td>\n",
       "    </tr>\n",
       "    <tr>\n",
       "      <th>jar</th>\n",
       "      <td>5121</td>\n",
       "      <td>0.00956862</td>\n",
       "    </tr>\n",
       "    <tr>\n",
       "      <th>flower</th>\n",
       "      <td>5120</td>\n",
       "      <td>0.00956675</td>\n",
       "    </tr>\n",
       "    <tr>\n",
       "      <th>candle</th>\n",
       "      <td>5093</td>\n",
       "      <td>0.0095163</td>\n",
       "    </tr>\n",
       "    <tr>\n",
       "      <th>suki</th>\n",
       "      <td>5036</td>\n",
       "      <td>0.0094098</td>\n",
       "    </tr>\n",
       "    <tr>\n",
       "      <th>cup</th>\n",
       "      <td>4989</td>\n",
       "      <td>0.00932198</td>\n",
       "    </tr>\n",
       "    <tr>\n",
       "      <th>candles</th>\n",
       "      <td>4983</td>\n",
       "      <td>0.00931076</td>\n",
       "    </tr>\n",
       "    <tr>\n",
       "      <th>hearts</th>\n",
       "      <td>4968</td>\n",
       "      <td>0.00928274</td>\n",
       "    </tr>\n",
       "    <tr>\n",
       "      <th>jam</th>\n",
       "      <td>4962</td>\n",
       "      <td>0.00927153</td>\n",
       "    </tr>\n",
       "    <tr>\n",
       "      <th>french</th>\n",
       "      <td>4900</td>\n",
       "      <td>0.00915568</td>\n",
       "    </tr>\n",
       "    <tr>\n",
       "      <th>knob</th>\n",
       "      <td>4887</td>\n",
       "      <td>0.00913139</td>\n",
       "    </tr>\n",
       "    <tr>\n",
       "      <th>hand</th>\n",
       "      <td>4852</td>\n",
       "      <td>0.00906599</td>\n",
       "    </tr>\n",
       "    <tr>\n",
       "      <th>egg</th>\n",
       "      <td>4791</td>\n",
       "      <td>0.00895201</td>\n",
       "    </tr>\n",
       "    <tr>\n",
       "      <th>cover</th>\n",
       "      <td>4731</td>\n",
       "      <td>0.0088399</td>\n",
       "    </tr>\n",
       "    <tr>\n",
       "      <th>pencils</th>\n",
       "      <td>4710</td>\n",
       "      <td>0.00880066</td>\n",
       "    </tr>\n",
       "    <tr>\n",
       "      <th>tree</th>\n",
       "      <td>4708</td>\n",
       "      <td>0.00879693</td>\n",
       "    </tr>\n",
       "    <tr>\n",
       "      <th>storage</th>\n",
       "      <td>4645</td>\n",
       "      <td>0.00867921</td>\n",
       "    </tr>\n",
       "  </tbody>\n",
       "</table>\n",
       "<p>99 rows × 2 columns</p>\n",
       "</div>"
      ],
      "text/plain": [
       "           total_sum  proportion\n",
       "set            62926    0.117578\n",
       "bag            51547   0.0963159\n",
       "red            43080   0.0804952\n",
       "heart          38856   0.0726027\n",
       "retrospot      34849   0.0651156\n",
       "vintage        33465   0.0625295\n",
       "design         29720    0.055532\n",
       "pink           29588   0.0552853\n",
       "christmas      24878   0.0464847\n",
       "box            24227   0.0452683\n",
       "cake           21203   0.0396179\n",
       "jumbo          20988   0.0392162\n",
       "white          20974     0.03919\n",
       "metal          20972   0.0391863\n",
       "blue           19804   0.0370039\n",
       "lunch          18292   0.0341787\n",
       "light          18091   0.0338031\n",
       "sign           17119    0.031987\n",
       "hanging        16842   0.0314694\n",
       "holder         16140   0.0301577\n",
       "pack           15571   0.0290945\n",
       "paper          14374   0.0268579\n",
       "small          14180   0.0264954\n",
       "card           14158   0.0264543\n",
       "decoration     12824   0.0239617\n",
       "wooden         12592   0.0235282\n",
       "glass          12505   0.0233657\n",
       "polkadot       12385   0.0231414\n",
       "tea            12317   0.0230144\n",
       "cases          11818    0.022082\n",
       "...              ...         ...\n",
       "childrens       6147   0.0114857\n",
       "colour          6145    0.011482\n",
       "star            6103   0.0114035\n",
       "wall            6098   0.0113941\n",
       "birthday        6087   0.0113736\n",
       "strawberry      6064   0.0113306\n",
       "wood            5970    0.011155\n",
       "bird            5818    0.010871\n",
       "zinc            5611   0.0104842\n",
       "skull           5596   0.0104562\n",
       "union           5405   0.0100993\n",
       "gift            5245  0.00980031\n",
       "lights          5207  0.00972931\n",
       "cutlery         5152  0.00962654\n",
       "jar             5121  0.00956862\n",
       "flower          5120  0.00956675\n",
       "candle          5093   0.0095163\n",
       "suki            5036   0.0094098\n",
       "cup             4989  0.00932198\n",
       "candles         4983  0.00931076\n",
       "hearts          4968  0.00928274\n",
       "jam             4962  0.00927153\n",
       "french          4900  0.00915568\n",
       "knob            4887  0.00913139\n",
       "hand            4852  0.00906599\n",
       "egg             4791  0.00895201\n",
       "cover           4731   0.0088399\n",
       "pencils         4710  0.00880066\n",
       "tree            4708  0.00879693\n",
       "storage         4645  0.00867921\n",
       "\n",
       "[99 rows x 2 columns]"
      ]
     },
     "execution_count": 17,
     "metadata": {},
     "output_type": "execute_result"
    }
   ],
   "source": [
    "# Can we tell something about what the 5 clusters represent? \n",
    "\n",
    "# First we can have a look at the most frequent words\n",
    "cumulative_sum = df_merged.iloc[:, 7:].cumsum()\n",
    "sums = cumulative_sum.tail(1).T \n",
    "\n",
    "# rename the column name\n",
    "sums = sums.rename(columns={535186: 'total_sum'})\n",
    " \n",
    "#create a new column for proportion 1s\n",
    "sums['proportion'] = sums.total_sum / len(df_merged)\n",
    "sums.sort_values('total_sum', ascending=False)"
   ]
  },
  {
   "cell_type": "markdown",
   "metadata": {},
   "source": [
    "We see that among the most common tokens in the desctiptions are: **set, bag, red, heart, retrospot, vintage, design, pink, christmas, box, cake, jumbo, white, metal, blue, lunch, light, sign**. \n",
    "\n",
    "These words should give us some idea about most common purchases, such as bags, (perhaps gift) sets, vintage products, Christmas-related sales, cakes, etc. \n",
    "\n",
    "However, we'd still ideally like to say which products belong to each of the fice clusters. \n",
    "\n",
    "There are two ways we can do. First, we can use T-SNE to see whether we can distinguish five clusters.\n",
    "\n",
    "Second, we can predict the cluster each transaction is assigned to and check the most common words in the clusters."
   ]
  },
  {
   "cell_type": "markdown",
   "metadata": {},
   "source": [
    "#### T-SNE model "
   ]
  },
  {
   "cell_type": "markdown",
   "metadata": {},
   "source": [
    "Trying to run to below code takes a lot of time to train, so instead I have trained a TSNE model in the background on a Hadoop cluster, pickled it and imported it here."
   ]
  },
  {
   "cell_type": "code",
   "execution_count": 15,
   "metadata": {},
   "outputs": [
    {
     "name": "stderr",
     "output_type": "stream",
     "text": [
      "C:\\Users\\C49091\\AppData\\Local\\Continuum\\anaconda3\\lib\\site-packages\\sklearn\\base.py:306: UserWarning: Trying to unpickle estimator TSNE from version 0.19.1 when using version 0.21.2. This might lead to breaking code or invalid results. Use at your own risk.\n",
      "  UserWarning)\n"
     ]
    }
   ],
   "source": [
    "import pickle\n",
    "\n",
    "filename = 'tsne_model.sav'\n",
    "model = pickle.load(open(filename, 'rb'))"
   ]
  },
  {
   "cell_type": "code",
   "execution_count": 16,
   "metadata": {},
   "outputs": [],
   "source": [
    "#Import the fitted and transformed data (which is the time-consuming part)\n",
    "fn = 'transformed_tsne.sav'\n",
    "transformed = pickle.load(open(fn, 'rb'))"
   ]
  },
  {
   "cell_type": "code",
   "execution_count": 17,
   "metadata": {},
   "outputs": [
    {
     "data": {
      "text/plain": [
       "(535187, 2)"
      ]
     },
     "execution_count": 17,
     "metadata": {},
     "output_type": "execute_result"
    }
   ],
   "source": [
    "transformed.shape"
   ]
  },
  {
   "cell_type": "code",
   "execution_count": 24,
   "metadata": {},
   "outputs": [
    {
     "data": {
      "image/png": "[encoded data removed]",
      "text/plain": [
       "<Figure size 720x720 with 1 Axes>"
      ]
     },
     "metadata": {
      "needs_background": "light"
     },
     "output_type": "display_data"
    }
   ],
   "source": [
    "# Let's plot the TSNE model, here trying to color by UnitPrice (experimenting with coloring by other features did \n",
    "# nor result in any particularly interesting results)\n",
    "x_axis = transformed[:, 0]\n",
    "y_axis = transformed[:, 1]\n",
    "\n",
    "plt.figure(figsize=(10, 10))\n",
    "plt.scatter(x_axis, y_axis, s=50, c=df_merged.UnitPrice)\n",
    "plt.show()"
   ]
  },
  {
   "cell_type": "markdown",
   "metadata": {},
   "source": [
    "The T-sne plot is a bit difficult to read given that we have hundreds of thousands of observations. There is definitely a consentration around the 0 starting point. \n",
    "\n",
    "Thus, T-sne is perhaps not the most informative approach, especially with such a large data set. "
   ]
  },
  {
   "cell_type": "markdown",
   "metadata": {},
   "source": [
    "Alternatively, we can predict the clusters and see which are the most frequent clusters, and then which words are in the most frequently predicted clusters."
   ]
  },
  {
   "cell_type": "code",
   "execution_count": 18,
   "metadata": {},
   "outputs": [],
   "source": [
    "# Let's predict the clusters after re-training the model with 5 clusters only\n",
    "\n",
    "# Fit a simple KMeans algorithm \n",
    "kmeans_5 = KMeans(n_clusters=5, random_state=1).fit(df_merged.iloc[:, 7:])\n",
    "predicted = kmeans_5.predict(df_merged.iloc[:, 7:])"
   ]
  },
  {
   "cell_type": "code",
   "execution_count": 19,
   "metadata": {},
   "outputs": [
    {
     "data": {
      "text/plain": [
       "(array([0, 1, 2, 3, 4]),\n",
       " array([ 31123, 379300,  60327,  43470,  20967], dtype=int64))"
      ]
     },
     "execution_count": 19,
     "metadata": {},
     "output_type": "execute_result"
    }
   ],
   "source": [
    "np.unique(predicted, return_counts=True)"
   ]
  },
  {
   "cell_type": "code",
   "execution_count": 20,
   "metadata": {},
   "outputs": [],
   "source": [
    "# Merge the predicted clusters back with the rest of the data\n",
    "exp = np.concatenate([df_merged, np.expand_dims(predicted, 1)], axis=1)\n",
    "cols = list(df_merged) + ['predicted_cluster']\n",
    "\n",
    "df_clusters = pd.DataFrame(exp, columns=cols)"
   ]
  },
  {
   "cell_type": "code",
   "execution_count": 21,
   "metadata": {},
   "outputs": [
    {
     "data": {
      "text/plain": [
       "1    379300\n",
       "2     60327\n",
       "3     43470\n",
       "0     31123\n",
       "4     20967\n",
       "Name: predicted_cluster, dtype: int64"
      ]
     },
     "execution_count": 21,
     "metadata": {},
     "output_type": "execute_result"
    }
   ],
   "source": [
    "# Cluster 1 is the largest, followed by cluster 2\n",
    "df_clusters.predicted_cluster.value_counts()"
   ]
  },
  {
   "cell_type": "code",
   "execution_count": 22,
   "metadata": {},
   "outputs": [
    {
     "data": {
      "text/html": [
       "<div>\n",
       "<style scoped>\n",
       "    .dataframe tbody tr th:only-of-type {\n",
       "        vertical-align: middle;\n",
       "    }\n",
       "\n",
       "    .dataframe tbody tr th {\n",
       "        vertical-align: top;\n",
       "    }\n",
       "\n",
       "    .dataframe thead th {\n",
       "        text-align: right;\n",
       "    }\n",
       "</style>\n",
       "<table border=\"1\" class=\"dataframe\">\n",
       "  <thead>\n",
       "    <tr style=\"text-align: right;\">\n",
       "      <th></th>\n",
       "      <th>total_sum</th>\n",
       "    </tr>\n",
       "  </thead>\n",
       "  <tbody>\n",
       "    <tr>\n",
       "      <th>heart</th>\n",
       "      <td>33654</td>\n",
       "    </tr>\n",
       "    <tr>\n",
       "      <th>pink</th>\n",
       "      <td>22970</td>\n",
       "    </tr>\n",
       "    <tr>\n",
       "      <th>vintage</th>\n",
       "      <td>21191</td>\n",
       "    </tr>\n",
       "    <tr>\n",
       "      <th>box</th>\n",
       "      <td>21060</td>\n",
       "    </tr>\n",
       "    <tr>\n",
       "      <th>christmas</th>\n",
       "      <td>20679</td>\n",
       "    </tr>\n",
       "    <tr>\n",
       "      <th>white</th>\n",
       "      <td>18648</td>\n",
       "    </tr>\n",
       "    <tr>\n",
       "      <th>red</th>\n",
       "      <td>17828</td>\n",
       "    </tr>\n",
       "    <tr>\n",
       "      <th>light</th>\n",
       "      <td>17416</td>\n",
       "    </tr>\n",
       "    <tr>\n",
       "      <th>holder</th>\n",
       "      <td>15753</td>\n",
       "    </tr>\n",
       "    <tr>\n",
       "      <th>hanging</th>\n",
       "      <td>15748</td>\n",
       "    </tr>\n",
       "    <tr>\n",
       "      <th>design</th>\n",
       "      <td>15150</td>\n",
       "    </tr>\n",
       "    <tr>\n",
       "      <th>blue</th>\n",
       "      <td>14316</td>\n",
       "    </tr>\n",
       "    <tr>\n",
       "      <th>card</th>\n",
       "      <td>13904</td>\n",
       "    </tr>\n",
       "    <tr>\n",
       "      <th>cake</th>\n",
       "      <td>13757</td>\n",
       "    </tr>\n",
       "    <tr>\n",
       "      <th>pack</th>\n",
       "      <td>13117</td>\n",
       "    </tr>\n",
       "  </tbody>\n",
       "</table>\n",
       "</div>"
      ],
      "text/plain": [
       "          total_sum\n",
       "heart         33654\n",
       "pink          22970\n",
       "vintage       21191\n",
       "box           21060\n",
       "christmas     20679\n",
       "white         18648\n",
       "red           17828\n",
       "light         17416\n",
       "holder        15753\n",
       "hanging       15748\n",
       "design        15150\n",
       "blue          14316\n",
       "card          13904\n",
       "cake          13757\n",
       "pack          13117"
      ]
     },
     "execution_count": 22,
     "metadata": {},
     "output_type": "execute_result"
    }
   ],
   "source": [
    "# Can split the dataset and explore some of the most frequent words in each cluster\n",
    "\n",
    "cl1 = df_clusters[df_clusters.predicted_cluster==1]\n",
    "\n",
    "cumulative_sum1 = cl1.iloc[:, 7:-1].cumsum()\n",
    "sums1 = cumulative_sum1.tail(1).T \n",
    "# rename the column name\n",
    "sums1 = sums1.rename(columns={535186: 'total_sum'})\n",
    "\n",
    "sums1.sort_values('total_sum', ascending=False).head(15)"
   ]
  },
  {
   "cell_type": "markdown",
   "metadata": {},
   "source": [
    "We see, for instance, the top words in this cluster have to do with **heart, box, christmas, cake, pack, etc.**, so perhaps it captures purcahses for certain holidays (Christmas, Valentine's day, etc.). "
   ]
  },
  {
   "cell_type": "code",
   "execution_count": 23,
   "metadata": {
    "scrolled": true
   },
   "outputs": [
    {
     "data": {
      "text/html": [
       "<div>\n",
       "<style scoped>\n",
       "    .dataframe tbody tr th:only-of-type {\n",
       "        vertical-align: middle;\n",
       "    }\n",
       "\n",
       "    .dataframe tbody tr th {\n",
       "        vertical-align: top;\n",
       "    }\n",
       "\n",
       "    .dataframe thead th {\n",
       "        text-align: right;\n",
       "    }\n",
       "</style>\n",
       "<table border=\"1\" class=\"dataframe\">\n",
       "  <thead>\n",
       "    <tr style=\"text-align: right;\">\n",
       "      <th></th>\n",
       "      <th>total_sum</th>\n",
       "    </tr>\n",
       "  </thead>\n",
       "  <tbody>\n",
       "    <tr>\n",
       "      <th>set</th>\n",
       "      <td>60470</td>\n",
       "    </tr>\n",
       "    <tr>\n",
       "      <th>tins</th>\n",
       "      <td>6061</td>\n",
       "    </tr>\n",
       "    <tr>\n",
       "      <th>pantry</th>\n",
       "      <td>5351</td>\n",
       "    </tr>\n",
       "    <tr>\n",
       "      <th>cake</th>\n",
       "      <td>5145</td>\n",
       "    </tr>\n",
       "    <tr>\n",
       "      <th>paper</th>\n",
       "      <td>4901</td>\n",
       "    </tr>\n",
       "    <tr>\n",
       "      <th>design</th>\n",
       "      <td>4592</td>\n",
       "    </tr>\n",
       "    <tr>\n",
       "      <th>vintage</th>\n",
       "      <td>4050</td>\n",
       "    </tr>\n",
       "    <tr>\n",
       "      <th>tea</th>\n",
       "      <td>3717</td>\n",
       "    </tr>\n",
       "    <tr>\n",
       "      <th>retrospot</th>\n",
       "      <td>3654</td>\n",
       "    </tr>\n",
       "    <tr>\n",
       "      <th>cases</th>\n",
       "      <td>3392</td>\n",
       "    </tr>\n",
       "    <tr>\n",
       "      <th>wooden</th>\n",
       "      <td>3001</td>\n",
       "    </tr>\n",
       "    <tr>\n",
       "      <th>heart</th>\n",
       "      <td>2658</td>\n",
       "    </tr>\n",
       "    <tr>\n",
       "      <th>jam</th>\n",
       "      <td>2641</td>\n",
       "    </tr>\n",
       "    <tr>\n",
       "      <th>lights</th>\n",
       "      <td>2620</td>\n",
       "    </tr>\n",
       "    <tr>\n",
       "      <th>red</th>\n",
       "      <td>2342</td>\n",
       "    </tr>\n",
       "  </tbody>\n",
       "</table>\n",
       "</div>"
      ],
      "text/plain": [
       "          total_sum\n",
       "set           60470\n",
       "tins           6061\n",
       "pantry         5351\n",
       "cake           5145\n",
       "paper          4901\n",
       "design         4592\n",
       "vintage        4050\n",
       "tea            3717\n",
       "retrospot      3654\n",
       "cases          3392\n",
       "wooden         3001\n",
       "heart          2658\n",
       "jam            2641\n",
       "lights         2620\n",
       "red            2342"
      ]
     },
     "execution_count": 23,
     "metadata": {},
     "output_type": "execute_result"
    }
   ],
   "source": [
    "# Can split the dataset and explore some of the most frequent words in each cluster\n",
    "\n",
    "cl2 = df_clusters[df_clusters.predicted_cluster==2]\n",
    "\n",
    "cumulative_sum2 = cl2.iloc[:, 7:-1].cumsum()\n",
    "sums2 = cumulative_sum2.tail(1).T \n",
    "# rename the column name\n",
    "sums2 = sums2.rename(columns={535175: 'total_sum'})\n",
    "\n",
    "sums2.sort_values('total_sum', ascending=False).head(15)"
   ]
  },
  {
   "cell_type": "markdown",
   "metadata": {},
   "source": [
    "We see that words such as **set, tins, pantry, cake, tea, etc.** emerge. So this cluster could reflect purchases related to household items."
   ]
  },
  {
   "cell_type": "code",
   "execution_count": 24,
   "metadata": {},
   "outputs": [
    {
     "data": {
      "text/html": [
       "<div>\n",
       "<style scoped>\n",
       "    .dataframe tbody tr th:only-of-type {\n",
       "        vertical-align: middle;\n",
       "    }\n",
       "\n",
       "    .dataframe tbody tr th {\n",
       "        vertical-align: top;\n",
       "    }\n",
       "\n",
       "    .dataframe thead th {\n",
       "        text-align: right;\n",
       "    }\n",
       "</style>\n",
       "<table border=\"1\" class=\"dataframe\">\n",
       "  <thead>\n",
       "    <tr style=\"text-align: right;\">\n",
       "      <th></th>\n",
       "      <th>total_sum</th>\n",
       "    </tr>\n",
       "  </thead>\n",
       "  <tbody>\n",
       "    <tr>\n",
       "      <th>bag</th>\n",
       "      <td>42278</td>\n",
       "    </tr>\n",
       "    <tr>\n",
       "      <th>jumbo</th>\n",
       "      <td>17920</td>\n",
       "    </tr>\n",
       "    <tr>\n",
       "      <th>lunch</th>\n",
       "      <td>11990</td>\n",
       "    </tr>\n",
       "    <tr>\n",
       "      <th>design</th>\n",
       "      <td>9426</td>\n",
       "    </tr>\n",
       "    <tr>\n",
       "      <th>vintage</th>\n",
       "      <td>8224</td>\n",
       "    </tr>\n",
       "    <tr>\n",
       "      <th>paisley</th>\n",
       "      <td>4992</td>\n",
       "    </tr>\n",
       "    <tr>\n",
       "      <th>pink</th>\n",
       "      <td>4989</td>\n",
       "    </tr>\n",
       "    <tr>\n",
       "      <th>charlotte</th>\n",
       "      <td>4786</td>\n",
       "    </tr>\n",
       "    <tr>\n",
       "      <th>suki</th>\n",
       "      <td>3973</td>\n",
       "    </tr>\n",
       "    <tr>\n",
       "      <th>polkadot</th>\n",
       "      <td>3268</td>\n",
       "    </tr>\n",
       "    <tr>\n",
       "      <th>woodland</th>\n",
       "      <td>2906</td>\n",
       "    </tr>\n",
       "    <tr>\n",
       "      <th>red</th>\n",
       "      <td>2283</td>\n",
       "    </tr>\n",
       "    <tr>\n",
       "      <th>black</th>\n",
       "      <td>2280</td>\n",
       "    </tr>\n",
       "    <tr>\n",
       "      <th>strawberry</th>\n",
       "      <td>2257</td>\n",
       "    </tr>\n",
       "    <tr>\n",
       "      <th>blue</th>\n",
       "      <td>2152</td>\n",
       "    </tr>\n",
       "  </tbody>\n",
       "</table>\n",
       "</div>"
      ],
      "text/plain": [
       "           total_sum\n",
       "bag            42278\n",
       "jumbo          17920\n",
       "lunch          11990\n",
       "design          9426\n",
       "vintage         8224\n",
       "paisley         4992\n",
       "pink            4989\n",
       "charlotte       4786\n",
       "suki            3973\n",
       "polkadot        3268\n",
       "woodland        2906\n",
       "red             2283\n",
       "black           2280\n",
       "strawberry      2257\n",
       "blue            2152"
      ]
     },
     "execution_count": 24,
     "metadata": {},
     "output_type": "execute_result"
    }
   ],
   "source": [
    "# Can split the dataset and explore some of the most frequent words in each cluster\n",
    "\n",
    "cl3 = df_clusters[df_clusters.predicted_cluster==3]\n",
    "\n",
    "cumulative_sum3 = cl3.iloc[:, 7:-1].cumsum()\n",
    "sums3 = cumulative_sum3.tail(1).T \n",
    "# rename the column name\n",
    "sums3 = sums3.rename(columns={535146: 'total_sum'})\n",
    "\n",
    "sums3.sort_values('total_sum', ascending=False).head(15)"
   ]
  },
  {
   "cell_type": "markdown",
   "metadata": {},
   "source": [
    "In this cluster words that pop are **bag, jumbo, lunch, design, vintage, etc.**. So perhaps this cluster captures more transactions related to accessories. "
   ]
  },
  {
   "cell_type": "markdown",
   "metadata": {},
   "source": [
    "In a similar way, we can explore what is happening in the other two clusters. We see that even such a simple approach relatively well splits up the clusters and different topics emerge in the different groups. \n",
    "\n",
    "If we wanted to **improve** the analysis, we could get rid of adjectives and leave only Nouns in our bag-of-words as we currently see a lot of adjectives in the top frequent words per cluster. Looking only at nouns, we could get a better understanding of the products bought by each cluster of customers.  "
   ]
  },
  {
   "cell_type": "markdown",
   "metadata": {},
   "source": [
    "### Topic modellsing with LDA"
   ]
  },
  {
   "cell_type": "markdown",
   "metadata": {},
   "source": [
    "We can instead split the descriptions in single tokens using nltk's functionality and apply topic modelling technique such as LDA (Latent Dirichlet Allocation). "
   ]
  },
  {
   "cell_type": "markdown",
   "metadata": {},
   "source": [
    "**LDA** models try to find groups of words that appear together frequently. Each document can be a 'mixture' of a subset of topics. A topic for a model might not be what we call a topic in everyday language but might be semantically different. \n",
    "\n",
    "For LDA, it's good to remove stop words, otherwise they might dominate the analysis. We can apply LDA after a BOW as well. We need to specify the number of topics in advance. We will try with 10 first, then with 5 since 5 was the number of clusters selected by a k-means approach. "
   ]
  },
  {
   "cell_type": "code",
   "execution_count": 15,
   "metadata": {},
   "outputs": [],
   "source": [
    "from sklearn.decomposition import LatentDirichletAllocation \n",
    "\n",
    "lda_10 = LatentDirichletAllocation(n_components=10, random_state=0, max_iter=25)\n",
    "topics10 = lda_10.fit_transform(df_merged.iloc[:, 7:])"
   ]
  },
  {
   "cell_type": "code",
   "execution_count": 16,
   "metadata": {},
   "outputs": [],
   "source": [
    "# Helper function to help us print topics \n",
    "def print_topics(model, n_top_words):\n",
    "    words = df_merged.iloc[:, 7:].columns\n",
    "    for topic_idx, topic in enumerate(model.components_):\n",
    "        print(\"\\nTopic #%d:\" % topic_idx)\n",
    "        print(\" \".join([words[i]\n",
    "                        for i in topic.argsort()[:-n_top_words - 1:-1]]))     "
   ]
  },
  {
   "cell_type": "code",
   "execution_count": 17,
   "metadata": {},
   "outputs": [
    {
     "name": "stdout",
     "output_type": "stream",
     "text": [
      "\n",
      "Topic #0:\n",
      "vintage bag jumbo cake cases paisley assorted fairy pack storage\n",
      "\n",
      "Topic #1:\n",
      "heart light hanging holder glass decoration ceramic silver drawer zinc\n",
      "\n",
      "Topic #2:\n",
      "christmas paper white wooden large heart kit frame wicker tree\n",
      "\n",
      "Topic #3:\n",
      "card pack clock tea birthday gift flower union cover green\n",
      "\n",
      "Topic #4:\n",
      "pink polkadot regency mug black green bowl skull blue white\n",
      "\n",
      "Topic #5:\n",
      "set pantry feltcraft cream tins woodland tin lights candles tea\n",
      "\n",
      "Topic #6:\n",
      "metal sign blue home small doormat party french bunting heart\n",
      "\n",
      "Topic #7:\n",
      "red retrospot box love wall wood garden lunch small cutlery\n",
      "\n",
      "Topic #8:\n",
      "bottle hot water rose ivory childrens cup egg bird heart\n",
      "\n",
      "Topic #9:\n",
      "bag design lunch spaceboy dolly girl charlotte wrap hearts box\n"
     ]
    }
   ],
   "source": [
    "print_topics(lda_10, 10)"
   ]
  },
  {
   "cell_type": "code",
   "execution_count": 18,
   "metadata": {},
   "outputs": [],
   "source": [
    "lda_5 = LatentDirichletAllocation(n_components=5, random_state=0, max_iter=25)\n",
    "topics5 = lda_5.fit(df_merged.iloc[:, 7:])"
   ]
  },
  {
   "cell_type": "code",
   "execution_count": 19,
   "metadata": {},
   "outputs": [
    {
     "name": "stdout",
     "output_type": "stream",
     "text": [
      "\n",
      "Topic #0:\n",
      "vintage jumbo metal cake bag sign cases tin paisley green\n",
      "\n",
      "Topic #1:\n",
      "heart box light hanging holder small decoration glass white home\n",
      "\n",
      "Topic #2:\n",
      "set red retrospot christmas paper wooden large rose heart wicker\n",
      "\n",
      "Topic #3:\n",
      "card tea bottle blue hot water pack cream bunting feltcraft\n",
      "\n",
      "Topic #4:\n",
      "design bag pink set lunch polkadot pantry dolly mug girl\n"
     ]
    }
   ],
   "source": [
    "print_topics(lda_5, 10)"
   ]
  },
  {
   "cell_type": "markdown",
   "metadata": {},
   "source": [
    "This helps us compare the k-means clusters and the topics selected by an LDA. We see quite a few similarities, especially between the LDA model of 5 topics. "
   ]
  },
  {
   "cell_type": "markdown",
   "metadata": {},
   "source": [
    "### Getting rid of adjectives "
   ]
  },
  {
   "cell_type": "markdown",
   "metadata": {},
   "source": [
    "With both clustering and topic modelling, we saw many adjectives. However, we might want to capture only nouns. Let's select only nouns and repeat some of the analysis.\n",
    "Let's work with the tokens created with the BOW approach provided by the CountVectorizer. We will filter out nouns and repeat the k-means clustering."
   ]
  },
  {
   "cell_type": "code",
   "execution_count": 35,
   "metadata": {},
   "outputs": [],
   "source": [
    "from nltk import word_tokenize, pos_tag\n",
    "\n",
    "cols = df_desc.columns\n",
    "tags = pos_tag(cols) "
   ]
  },
  {
   "cell_type": "code",
   "execution_count": 38,
   "metadata": {},
   "outputs": [
    {
     "data": {
      "text/plain": [
       "('antique', 'NN')"
      ]
     },
     "execution_count": 38,
     "metadata": {},
     "output_type": "execute_result"
    }
   ],
   "source": [
    "tags[0]"
   ]
  },
  {
   "cell_type": "code",
   "execution_count": 39,
   "metadata": {},
   "outputs": [],
   "source": [
    "nouns = [word for word, pos in tags if (pos == 'NN' or pos == 'NNP' or pos == 'NNS' or pos == 'NNPS')]"
   ]
  },
  {
   "cell_type": "code",
   "execution_count": 42,
   "metadata": {},
   "outputs": [
    {
     "data": {
      "text/plain": [
       "68"
      ]
     },
     "execution_count": 42,
     "metadata": {},
     "output_type": "execute_result"
    }
   ],
   "source": [
    "len(nouns)"
   ]
  },
  {
   "cell_type": "code",
   "execution_count": 43,
   "metadata": {},
   "outputs": [
    {
     "data": {
      "text/plain": [
       "['antique',\n",
       " 'bird',\n",
       " 'blue',\n",
       " 'bottle',\n",
       " 'bowl',\n",
       " 'box',\n",
       " 'cake',\n",
       " 'candle',\n",
       " 'cases',\n",
       " 'charlotte']"
      ]
     },
     "execution_count": 43,
     "metadata": {},
     "output_type": "execute_result"
    }
   ],
   "source": [
    "nouns[:10]"
   ]
  },
  {
   "cell_type": "markdown",
   "metadata": {},
   "source": [
    "Let's repeat the clustering with the filtered description."
   ]
  },
  {
   "cell_type": "code",
   "execution_count": 46,
   "metadata": {},
   "outputs": [],
   "source": [
    "# Filter the data set\n",
    "df_filt_nouns = df_merged[nouns]"
   ]
  },
  {
   "cell_type": "code",
   "execution_count": 49,
   "metadata": {},
   "outputs": [
    {
     "data": {
      "text/html": [
       "<div>\n",
       "<style scoped>\n",
       "    .dataframe tbody tr th:only-of-type {\n",
       "        vertical-align: middle;\n",
       "    }\n",
       "\n",
       "    .dataframe tbody tr th {\n",
       "        vertical-align: top;\n",
       "    }\n",
       "\n",
       "    .dataframe thead th {\n",
       "        text-align: right;\n",
       "    }\n",
       "</style>\n",
       "<table border=\"1\" class=\"dataframe\">\n",
       "  <thead>\n",
       "    <tr style=\"text-align: right;\">\n",
       "      <th></th>\n",
       "      <th>InvoiceNo</th>\n",
       "      <th>StockCode</th>\n",
       "      <th>Quantity</th>\n",
       "      <th>InvoiceDate</th>\n",
       "      <th>UnitPrice</th>\n",
       "      <th>Country</th>\n",
       "      <th>antique</th>\n",
       "      <th>bird</th>\n",
       "      <th>blue</th>\n",
       "      <th>bottle</th>\n",
       "      <th>...</th>\n",
       "      <th>tin</th>\n",
       "      <th>union</th>\n",
       "      <th>vintage</th>\n",
       "      <th>wall</th>\n",
       "      <th>water</th>\n",
       "      <th>wicker</th>\n",
       "      <th>wood</th>\n",
       "      <th>woodland</th>\n",
       "      <th>wrap</th>\n",
       "      <th>zinc</th>\n",
       "    </tr>\n",
       "  </thead>\n",
       "  <tbody>\n",
       "    <tr>\n",
       "      <th>0</th>\n",
       "      <td>536365</td>\n",
       "      <td>21730</td>\n",
       "      <td>6</td>\n",
       "      <td>2010-12-01 08:26:00</td>\n",
       "      <td>4.25</td>\n",
       "      <td>United Kingdom</td>\n",
       "      <td>0</td>\n",
       "      <td>0</td>\n",
       "      <td>0</td>\n",
       "      <td>0</td>\n",
       "      <td>...</td>\n",
       "      <td>0</td>\n",
       "      <td>0</td>\n",
       "      <td>0</td>\n",
       "      <td>0</td>\n",
       "      <td>0</td>\n",
       "      <td>0</td>\n",
       "      <td>0</td>\n",
       "      <td>0</td>\n",
       "      <td>0</td>\n",
       "      <td>0</td>\n",
       "    </tr>\n",
       "    <tr>\n",
       "      <th>1</th>\n",
       "      <td>536365</td>\n",
       "      <td>22752</td>\n",
       "      <td>2</td>\n",
       "      <td>2010-12-01 08:26:00</td>\n",
       "      <td>7.65</td>\n",
       "      <td>United Kingdom</td>\n",
       "      <td>0</td>\n",
       "      <td>0</td>\n",
       "      <td>0</td>\n",
       "      <td>0</td>\n",
       "      <td>...</td>\n",
       "      <td>0</td>\n",
       "      <td>0</td>\n",
       "      <td>0</td>\n",
       "      <td>0</td>\n",
       "      <td>0</td>\n",
       "      <td>0</td>\n",
       "      <td>0</td>\n",
       "      <td>0</td>\n",
       "      <td>0</td>\n",
       "      <td>0</td>\n",
       "    </tr>\n",
       "    <tr>\n",
       "      <th>2</th>\n",
       "      <td>536365</td>\n",
       "      <td>71053</td>\n",
       "      <td>6</td>\n",
       "      <td>2010-12-01 08:26:00</td>\n",
       "      <td>3.39</td>\n",
       "      <td>United Kingdom</td>\n",
       "      <td>0</td>\n",
       "      <td>0</td>\n",
       "      <td>0</td>\n",
       "      <td>0</td>\n",
       "      <td>...</td>\n",
       "      <td>0</td>\n",
       "      <td>0</td>\n",
       "      <td>0</td>\n",
       "      <td>0</td>\n",
       "      <td>0</td>\n",
       "      <td>0</td>\n",
       "      <td>0</td>\n",
       "      <td>0</td>\n",
       "      <td>0</td>\n",
       "      <td>0</td>\n",
       "    </tr>\n",
       "    <tr>\n",
       "      <th>3</th>\n",
       "      <td>536365</td>\n",
       "      <td>84029E</td>\n",
       "      <td>6</td>\n",
       "      <td>2010-12-01 08:26:00</td>\n",
       "      <td>3.39</td>\n",
       "      <td>United Kingdom</td>\n",
       "      <td>0</td>\n",
       "      <td>0</td>\n",
       "      <td>0</td>\n",
       "      <td>0</td>\n",
       "      <td>...</td>\n",
       "      <td>0</td>\n",
       "      <td>0</td>\n",
       "      <td>0</td>\n",
       "      <td>0</td>\n",
       "      <td>0</td>\n",
       "      <td>0</td>\n",
       "      <td>0</td>\n",
       "      <td>0</td>\n",
       "      <td>0</td>\n",
       "      <td>0</td>\n",
       "    </tr>\n",
       "    <tr>\n",
       "      <th>4</th>\n",
       "      <td>536365</td>\n",
       "      <td>84029G</td>\n",
       "      <td>6</td>\n",
       "      <td>2010-12-01 08:26:00</td>\n",
       "      <td>3.39</td>\n",
       "      <td>United Kingdom</td>\n",
       "      <td>0</td>\n",
       "      <td>0</td>\n",
       "      <td>0</td>\n",
       "      <td>1</td>\n",
       "      <td>...</td>\n",
       "      <td>0</td>\n",
       "      <td>1</td>\n",
       "      <td>0</td>\n",
       "      <td>0</td>\n",
       "      <td>1</td>\n",
       "      <td>0</td>\n",
       "      <td>0</td>\n",
       "      <td>0</td>\n",
       "      <td>0</td>\n",
       "      <td>0</td>\n",
       "    </tr>\n",
       "  </tbody>\n",
       "</table>\n",
       "<p>5 rows × 74 columns</p>\n",
       "</div>"
      ],
      "text/plain": [
       "  InvoiceNo StockCode Quantity          InvoiceDate UnitPrice         Country  \\\n",
       "0    536365     21730        6  2010-12-01 08:26:00      4.25  United Kingdom   \n",
       "1    536365     22752        2  2010-12-01 08:26:00      7.65  United Kingdom   \n",
       "2    536365     71053        6  2010-12-01 08:26:00      3.39  United Kingdom   \n",
       "3    536365    84029E        6  2010-12-01 08:26:00      3.39  United Kingdom   \n",
       "4    536365    84029G        6  2010-12-01 08:26:00      3.39  United Kingdom   \n",
       "\n",
       "  antique bird blue bottle ...  tin union vintage wall water wicker wood  \\\n",
       "0       0    0    0      0 ...    0     0       0    0     0      0    0   \n",
       "1       0    0    0      0 ...    0     0       0    0     0      0    0   \n",
       "2       0    0    0      0 ...    0     0       0    0     0      0    0   \n",
       "3       0    0    0      0 ...    0     0       0    0     0      0    0   \n",
       "4       0    0    0      1 ...    0     1       0    0     1      0    0   \n",
       "\n",
       "  woodland wrap zinc  \n",
       "0        0    0    0  \n",
       "1        0    0    0  \n",
       "2        0    0    0  \n",
       "3        0    0    0  \n",
       "4        0    0    0  \n",
       "\n",
       "[5 rows x 74 columns]"
      ]
     },
     "execution_count": 49,
     "metadata": {},
     "output_type": "execute_result"
    }
   ],
   "source": [
    "# Merge back with the first columns of the data frame\n",
    "con = np.concatenate([df_no_desc, df_filt_nouns], axis=1)\n",
    "column_names = list(df_no_desc.columns) + list(df_filt_nouns.columns)\n",
    "df_nouns = pd.DataFrame(con, columns=column_names)\n",
    "df_nouns.head()"
   ]
  },
  {
   "cell_type": "code",
   "execution_count": 50,
   "metadata": {},
   "outputs": [],
   "source": [
    "from sklearn.cluster import KMeans\n",
    "\n",
    "inertia = []\n",
    "for k in range(1, 10):\n",
    "    kmeans2 = KMeans(n_clusters=k, random_state=1).fit(df_nouns.iloc[:, 7:])\n",
    "    inertia.append(np.sqrt(kmeans2.inertia_))"
   ]
  },
  {
   "cell_type": "code",
   "execution_count": 51,
   "metadata": {},
   "outputs": [
    {
     "data": {
      "text/plain": [
       "Text(0,0.5,'Inertia value')"
      ]
     },
     "execution_count": 51,
     "metadata": {},
     "output_type": "execute_result"
    },
    {
     "data": {
      "image/png": "[encoded data removed]",
      "text/plain": [
       "<Figure size 432x288 with 1 Axes>"
      ]
     },
     "metadata": {
      "needs_background": "light"
     },
     "output_type": "display_data"
    }
   ],
   "source": [
    "plt.plot(range(1, 10), inertia, marker='s')\n",
    "plt.xlabel('k')\n",
    "plt.ylabel('Inertia value')"
   ]
  },
  {
   "cell_type": "markdown",
   "metadata": {},
   "source": [
    "Now it's less clear how many clusters there are in the data. I'd choose 2 or 3. "
   ]
  },
  {
   "cell_type": "code",
   "execution_count": 52,
   "metadata": {},
   "outputs": [],
   "source": [
    "# Fit a simple KMeans algorithm \n",
    "kmeans_2 = KMeans(n_clusters=2, random_state=1).fit(df_nouns.iloc[:, 7:])\n",
    "predicted = kmeans_2.predict(df_nouns.iloc[:, 7:])"
   ]
  },
  {
   "cell_type": "code",
   "execution_count": 53,
   "metadata": {},
   "outputs": [],
   "source": [
    "# Merge the predicted clusters back with the rest of the data\n",
    "exp = np.concatenate([df_nouns, np.expand_dims(predicted, 1)], axis=1)\n",
    "cols = list(df_nouns) + ['predicted_cluster']\n",
    "\n",
    "df_clusters = pd.DataFrame(exp, columns=cols)"
   ]
  },
  {
   "cell_type": "code",
   "execution_count": 55,
   "metadata": {},
   "outputs": [
    {
     "data": {
      "text/plain": [
       "0    501722\n",
       "1     33465\n",
       "Name: predicted_cluster, dtype: int64"
      ]
     },
     "execution_count": 55,
     "metadata": {},
     "output_type": "execute_result"
    }
   ],
   "source": [
    "df_clusters.predicted_cluster.value_counts()"
   ]
  },
  {
   "cell_type": "code",
   "execution_count": 58,
   "metadata": {},
   "outputs": [
    {
     "data": {
      "text/html": [
       "<div>\n",
       "<style scoped>\n",
       "    .dataframe tbody tr th:only-of-type {\n",
       "        vertical-align: middle;\n",
       "    }\n",
       "\n",
       "    .dataframe tbody tr th {\n",
       "        vertical-align: top;\n",
       "    }\n",
       "\n",
       "    .dataframe thead th {\n",
       "        text-align: right;\n",
       "    }\n",
       "</style>\n",
       "<table border=\"1\" class=\"dataframe\">\n",
       "  <thead>\n",
       "    <tr style=\"text-align: right;\">\n",
       "      <th></th>\n",
       "      <th>total_sum</th>\n",
       "    </tr>\n",
       "  </thead>\n",
       "  <tbody>\n",
       "    <tr>\n",
       "      <th>heart</th>\n",
       "      <td>38626</td>\n",
       "    </tr>\n",
       "    <tr>\n",
       "      <th>retrospot</th>\n",
       "      <td>34777</td>\n",
       "    </tr>\n",
       "    <tr>\n",
       "      <th>design</th>\n",
       "      <td>28627</td>\n",
       "    </tr>\n",
       "    <tr>\n",
       "      <th>box</th>\n",
       "      <td>23141</td>\n",
       "    </tr>\n",
       "    <tr>\n",
       "      <th>metal</th>\n",
       "      <td>20972</td>\n",
       "    </tr>\n",
       "    <tr>\n",
       "      <th>blue</th>\n",
       "      <td>19453</td>\n",
       "    </tr>\n",
       "    <tr>\n",
       "      <th>cake</th>\n",
       "      <td>19361</td>\n",
       "    </tr>\n",
       "    <tr>\n",
       "      <th>sign</th>\n",
       "      <td>17119</td>\n",
       "    </tr>\n",
       "    <tr>\n",
       "      <th>lunch</th>\n",
       "      <td>16854</td>\n",
       "    </tr>\n",
       "    <tr>\n",
       "      <th>pack</th>\n",
       "      <td>14926</td>\n",
       "    </tr>\n",
       "    <tr>\n",
       "      <th>decoration</th>\n",
       "      <td>12824</td>\n",
       "    </tr>\n",
       "    <tr>\n",
       "      <th>paper</th>\n",
       "      <td>12669</td>\n",
       "    </tr>\n",
       "    <tr>\n",
       "      <th>polkadot</th>\n",
       "      <td>12385</td>\n",
       "    </tr>\n",
       "    <tr>\n",
       "      <th>tea</th>\n",
       "      <td>12227</td>\n",
       "    </tr>\n",
       "    <tr>\n",
       "      <th>glass</th>\n",
       "      <td>12172</td>\n",
       "    </tr>\n",
       "  </tbody>\n",
       "</table>\n",
       "</div>"
      ],
      "text/plain": [
       "           total_sum\n",
       "heart          38626\n",
       "retrospot      34777\n",
       "design         28627\n",
       "box            23141\n",
       "metal          20972\n",
       "blue           19453\n",
       "cake           19361\n",
       "sign           17119\n",
       "lunch          16854\n",
       "pack           14926\n",
       "decoration     12824\n",
       "paper          12669\n",
       "polkadot       12385\n",
       "tea            12227\n",
       "glass          12172"
      ]
     },
     "execution_count": 58,
     "metadata": {},
     "output_type": "execute_result"
    }
   ],
   "source": [
    "cl0 = df_clusters[df_clusters.predicted_cluster==0]\n",
    "\n",
    "cumulative_sum0 = cl0.iloc[:, 7:-1].cumsum()\n",
    "sums0 = cumulative_sum0.tail(1).T \n",
    "# rename the column name\n",
    "sums0 = sums0.rename(columns={535186: 'total_sum'})\n",
    "\n",
    "sums0.sort_values('total_sum', ascending=False).head(15)"
   ]
  },
  {
   "cell_type": "code",
   "execution_count": 65,
   "metadata": {},
   "outputs": [
    {
     "data": {
      "text/html": [
       "<div>\n",
       "<style scoped>\n",
       "    .dataframe tbody tr th:only-of-type {\n",
       "        vertical-align: middle;\n",
       "    }\n",
       "\n",
       "    .dataframe tbody tr th {\n",
       "        vertical-align: top;\n",
       "    }\n",
       "\n",
       "    .dataframe thead th {\n",
       "        text-align: right;\n",
       "    }\n",
       "</style>\n",
       "<table border=\"1\" class=\"dataframe\">\n",
       "  <thead>\n",
       "    <tr style=\"text-align: right;\">\n",
       "      <th></th>\n",
       "      <th>total_sum</th>\n",
       "    </tr>\n",
       "  </thead>\n",
       "  <tbody>\n",
       "    <tr>\n",
       "      <th>vintage</th>\n",
       "      <td>33465</td>\n",
       "    </tr>\n",
       "    <tr>\n",
       "      <th>paisley</th>\n",
       "      <td>4351</td>\n",
       "    </tr>\n",
       "    <tr>\n",
       "      <th>tin</th>\n",
       "      <td>2596</td>\n",
       "    </tr>\n",
       "    <tr>\n",
       "      <th>cake</th>\n",
       "      <td>1842</td>\n",
       "    </tr>\n",
       "    <tr>\n",
       "      <th>paper</th>\n",
       "      <td>1705</td>\n",
       "    </tr>\n",
       "    <tr>\n",
       "      <th>kit</th>\n",
       "      <td>1529</td>\n",
       "    </tr>\n",
       "    <tr>\n",
       "      <th>lunch</th>\n",
       "      <td>1438</td>\n",
       "    </tr>\n",
       "    <tr>\n",
       "      <th>union</th>\n",
       "      <td>1245</td>\n",
       "    </tr>\n",
       "    <tr>\n",
       "      <th>cream</th>\n",
       "      <td>1151</td>\n",
       "    </tr>\n",
       "    <tr>\n",
       "      <th>wrap</th>\n",
       "      <td>1094</td>\n",
       "    </tr>\n",
       "    <tr>\n",
       "      <th>design</th>\n",
       "      <td>1093</td>\n",
       "    </tr>\n",
       "    <tr>\n",
       "      <th>box</th>\n",
       "      <td>1086</td>\n",
       "    </tr>\n",
       "    <tr>\n",
       "      <th>cases</th>\n",
       "      <td>1026</td>\n",
       "    </tr>\n",
       "    <tr>\n",
       "      <th>mug</th>\n",
       "      <td>836</td>\n",
       "    </tr>\n",
       "    <tr>\n",
       "      <th>gift</th>\n",
       "      <td>798</td>\n",
       "    </tr>\n",
       "  </tbody>\n",
       "</table>\n",
       "</div>"
      ],
      "text/plain": [
       "        total_sum\n",
       "vintage     33465\n",
       "paisley      4351\n",
       "tin          2596\n",
       "cake         1842\n",
       "paper        1705\n",
       "kit          1529\n",
       "lunch        1438\n",
       "union        1245\n",
       "cream        1151\n",
       "wrap         1094\n",
       "design       1093\n",
       "box          1086\n",
       "cases        1026\n",
       "mug           836\n",
       "gift          798"
      ]
     },
     "execution_count": 65,
     "metadata": {},
     "output_type": "execute_result"
    }
   ],
   "source": [
    "cl1 = df_clusters[df_clusters.predicted_cluster==1]\n",
    "\n",
    "cumulative_sum1 = cl1.iloc[:, 7:-1].cumsum()\n",
    "sums1 = cumulative_sum1.tail(1).T \n",
    "# rename the column name\n",
    "sums1 = sums1.rename(columns={535152: 'total_sum'})\n",
    "\n",
    "sums1.sort_values('total_sum', ascending=False).head(15) "
   ]
  }
 ],
 "metadata": {
  "kernelspec": {
   "display_name": "Python 3",
   "language": "python",
   "name": "python3"
  },
  "language_info": {
   "codemirror_mode": {
    "name": "ipython",
    "version": 3
   },
   "file_extension": ".py",
   "mimetype": "text/x-python",
   "name": "python",
   "nbconvert_exporter": "python",
   "pygments_lexer": "ipython3",
   "version": "3.7.0"
  }
 },
 "nbformat": 4,
 "nbformat_minor": 2
}
